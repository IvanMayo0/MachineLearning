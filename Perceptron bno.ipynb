{
 "cells": [
  {
   "cell_type": "code",
   "execution_count": 1,
   "id": "6395e690",
   "metadata": {},
   "outputs": [],
   "source": [
    "import numpy as np\n",
    "import pandas as pd"
   ]
  },
  {
   "cell_type": "code",
   "execution_count": 2,
   "id": "b4dd790b",
   "metadata": {},
   "outputs": [],
   "source": [
    "class Perceptron:\n",
    "    def __init__(self, input_size):\n",
    "        # Initialize weights and bias\n",
    "        self.weights = np.zeros(input_size)\n",
    "        self.bias = 0"
   ]
  },
  {
   "cell_type": "code",
   "execution_count": 3,
   "id": "6770b187",
   "metadata": {},
   "outputs": [],
   "source": [
    "def predict(self, inputs):\n",
    "    # Sum of weighted inputs plus bias\n",
    "    z = np.dot(self.weights, inputs) + self.bias\n",
    "    # Activation function (threshold at 0.5)\n",
    "    return 1 if z >= 0.5 else 0"
   ]
  },
  {
   "cell_type": "code",
   "execution_count": 4,
   "id": "901343b6",
   "metadata": {},
   "outputs": [],
   "source": [
    "def train(self, inputs, target, learning_rate=0.1):\n",
    "    # Make a prediction\n",
    "    prediction = self.predict(inputs)\n",
    "    # Calculate the error\n",
    "    error = target - prediction\n",
    "    # Update weights and bias using the gradient descent algorithm\n",
    "    self.weights += learning_rate * error * inputs\n",
    "    self.bias += learning_rate * error"
   ]
  },
  {
   "cell_type": "code",
   "execution_count": 5,
   "id": "0bb3d426",
   "metadata": {},
   "outputs": [],
   "source": [
    "def mean_squared_error(targets, predictions):\n",
    "    return np.mean((targets - predictions) ** 2)"
   ]
  },
  {
   "cell_type": "code",
   "execution_count": 6,
   "id": "5a07825e",
   "metadata": {},
   "outputs": [],
   "source": [
    "def gradient_descent(perceptron, inputs, targets, learning_rate=0.1, epochs=100):\n",
    "    for _ in range(epochs):\n",
    "        for i in range(len(inputs)):\n",
    "            perceptron.train(inputs[i], targets[i], learning_rate)"
   ]
  },
  {
   "cell_type": "code",
   "execution_count": 7,
   "id": "236ea6e2",
   "metadata": {},
   "outputs": [],
   "source": [
    "# Sample DataFrame with random data\n",
    "data = {\n",
    "    'Age': np.random.uniform(0, 1, 20),\n",
    "    'Bank_Account_Balance': np.random.uniform(0, 1, 20),\n",
    "    'Credit_Card_Approval': np.random.randint(2, size=20)\n",
    "}\n",
    "df = pd.DataFrame(data)"
   ]
  },
  {
   "cell_type": "code",
   "execution_count": 8,
   "id": "d152bab7",
   "metadata": {},
   "outputs": [],
   "source": [
    "# Extract inputs and targets from the DataFrame\n",
    "inputs = df[['Age', 'Bank_Account_Balance']].values\n",
    "targets = df['Credit_Card_Approval'].values"
   ]
  },
  {
   "cell_type": "code",
   "execution_count": 9,
   "id": "98e68b7f",
   "metadata": {
    "scrolled": true
   },
   "outputs": [
    {
     "ename": "AttributeError",
     "evalue": "'Perceptron' object has no attribute 'train'",
     "output_type": "error",
     "traceback": [
      "\u001b[1;31m---------------------------------------------------------------------------\u001b[0m",
      "\u001b[1;31mAttributeError\u001b[0m                            Traceback (most recent call last)",
      "Cell \u001b[1;32mIn[9], line 3\u001b[0m\n\u001b[0;32m      1\u001b[0m \u001b[38;5;66;03m# Create a Perceptron model with 2 input neurons\u001b[39;00m\n\u001b[0;32m      2\u001b[0m model \u001b[38;5;241m=\u001b[39m Perceptron(input_size\u001b[38;5;241m=\u001b[39m\u001b[38;5;241m2\u001b[39m)\u001b[38;5;66;03m# Train the model using gradient descent\u001b[39;00m\n\u001b[1;32m----> 3\u001b[0m \u001b[43mgradient_descent\u001b[49m\u001b[43m(\u001b[49m\u001b[43mmodel\u001b[49m\u001b[43m,\u001b[49m\u001b[43m \u001b[49m\u001b[43minputs\u001b[49m\u001b[43m,\u001b[49m\u001b[43m \u001b[49m\u001b[43mtargets\u001b[49m\u001b[43m)\u001b[49m\n",
      "Cell \u001b[1;32mIn[6], line 4\u001b[0m, in \u001b[0;36mgradient_descent\u001b[1;34m(perceptron, inputs, targets, learning_rate, epochs)\u001b[0m\n\u001b[0;32m      2\u001b[0m \u001b[38;5;28;01mfor\u001b[39;00m _ \u001b[38;5;129;01min\u001b[39;00m \u001b[38;5;28mrange\u001b[39m(epochs):\n\u001b[0;32m      3\u001b[0m     \u001b[38;5;28;01mfor\u001b[39;00m i \u001b[38;5;129;01min\u001b[39;00m \u001b[38;5;28mrange\u001b[39m(\u001b[38;5;28mlen\u001b[39m(inputs)):\n\u001b[1;32m----> 4\u001b[0m         \u001b[43mperceptron\u001b[49m\u001b[38;5;241;43m.\u001b[39;49m\u001b[43mtrain\u001b[49m(inputs[i], targets[i], learning_rate)\n",
      "\u001b[1;31mAttributeError\u001b[0m: 'Perceptron' object has no attribute 'train'"
     ]
    }
   ],
   "source": [
    "# Create a Perceptron model with 2 input neurons\n",
    "model = Perceptron(input_size=2)# Train the model using gradient descent\n",
    "gradient_descent(model, inputs, targets)"
   ]
  },
  {
   "cell_type": "code",
   "execution_count": 10,
   "id": "ef0691bf",
   "metadata": {},
   "outputs": [
    {
     "ename": "AttributeError",
     "evalue": "'Perceptron' object has no attribute 'predict'",
     "output_type": "error",
     "traceback": [
      "\u001b[1;31m---------------------------------------------------------------------------\u001b[0m",
      "\u001b[1;31mAttributeError\u001b[0m                            Traceback (most recent call last)",
      "Cell \u001b[1;32mIn[10], line 3\u001b[0m\n\u001b[0;32m      1\u001b[0m \u001b[38;5;66;03m# Test the trained model\u001b[39;00m\n\u001b[0;32m      2\u001b[0m test_inputs \u001b[38;5;241m=\u001b[39m np\u001b[38;5;241m.\u001b[39marray([[\u001b[38;5;241m0.3\u001b[39m, \u001b[38;5;241m0.4\u001b[39m], [\u001b[38;5;241m0.7\u001b[39m, \u001b[38;5;241m0.8\u001b[39m], [\u001b[38;5;241m0.5\u001b[39m, \u001b[38;5;241m0.6\u001b[39m], [\u001b[38;5;241m0.9\u001b[39m, \u001b[38;5;241m0.4\u001b[39m]])\n\u001b[1;32m----> 3\u001b[0m predictions \u001b[38;5;241m=\u001b[39m [model\u001b[38;5;241m.\u001b[39mpredict(\u001b[38;5;28minput\u001b[39m) \u001b[38;5;28;01mfor\u001b[39;00m \u001b[38;5;28minput\u001b[39m \u001b[38;5;129;01min\u001b[39;00m test_inputs]\n",
      "Cell \u001b[1;32mIn[10], line 3\u001b[0m, in \u001b[0;36m<listcomp>\u001b[1;34m(.0)\u001b[0m\n\u001b[0;32m      1\u001b[0m \u001b[38;5;66;03m# Test the trained model\u001b[39;00m\n\u001b[0;32m      2\u001b[0m test_inputs \u001b[38;5;241m=\u001b[39m np\u001b[38;5;241m.\u001b[39marray([[\u001b[38;5;241m0.3\u001b[39m, \u001b[38;5;241m0.4\u001b[39m], [\u001b[38;5;241m0.7\u001b[39m, \u001b[38;5;241m0.8\u001b[39m], [\u001b[38;5;241m0.5\u001b[39m, \u001b[38;5;241m0.6\u001b[39m], [\u001b[38;5;241m0.9\u001b[39m, \u001b[38;5;241m0.4\u001b[39m]])\n\u001b[1;32m----> 3\u001b[0m predictions \u001b[38;5;241m=\u001b[39m [\u001b[43mmodel\u001b[49m\u001b[38;5;241;43m.\u001b[39;49m\u001b[43mpredict\u001b[49m(\u001b[38;5;28minput\u001b[39m) \u001b[38;5;28;01mfor\u001b[39;00m \u001b[38;5;28minput\u001b[39m \u001b[38;5;129;01min\u001b[39;00m test_inputs]\n",
      "\u001b[1;31mAttributeError\u001b[0m: 'Perceptron' object has no attribute 'predict'"
     ]
    }
   ],
   "source": [
    "# Test the trained model\n",
    "test_inputs = np.array([[0.3, 0.4], [0.7, 0.8], [0.5, 0.6], [0.9, 0.4]])\n",
    "predictions = [model.predict(input) for input in test_inputs]"
   ]
  },
  {
   "cell_type": "code",
   "execution_count": 11,
   "id": "b377d7b5",
   "metadata": {},
   "outputs": [
    {
     "ename": "NameError",
     "evalue": "name 'predictions' is not defined",
     "output_type": "error",
     "traceback": [
      "\u001b[1;31m---------------------------------------------------------------------------\u001b[0m",
      "\u001b[1;31mNameError\u001b[0m                                 Traceback (most recent call last)",
      "Cell \u001b[1;32mIn[11], line 2\u001b[0m\n\u001b[0;32m      1\u001b[0m \u001b[38;5;66;03m# Evaluate the model using mean squared error (loss function)\u001b[39;00m\n\u001b[1;32m----> 2\u001b[0m mse \u001b[38;5;241m=\u001b[39m mean_squared_error(targets, \u001b[43mpredictions\u001b[49m)\n\u001b[0;32m      3\u001b[0m \u001b[38;5;28mprint\u001b[39m(\u001b[38;5;124m\"\u001b[39m\u001b[38;5;124mPredictions:\u001b[39m\u001b[38;5;124m\"\u001b[39m, predictions)\n\u001b[0;32m      4\u001b[0m \u001b[38;5;28mprint\u001b[39m(\u001b[38;5;124m\"\u001b[39m\u001b[38;5;124mMean Squared Error:\u001b[39m\u001b[38;5;124m\"\u001b[39m, mse)\n",
      "\u001b[1;31mNameError\u001b[0m: name 'predictions' is not defined"
     ]
    }
   ],
   "source": [
    "# Evaluate the model using mean squared error (loss function)\n",
    "mse = mean_squared_error(targets, predictions)\n",
    "print(\"Predictions:\", predictions)\n",
    "print(\"Mean Squared Error:\", mse)"
   ]
  },
  {
   "cell_type": "code",
   "execution_count": null,
   "id": "33c5f4f5",
   "metadata": {},
   "outputs": [],
   "source": []
  }
 ],
 "metadata": {
  "kernelspec": {
   "display_name": "Python 3 (ipykernel)",
   "language": "python",
   "name": "python3"
  },
  "language_info": {
   "codemirror_mode": {
    "name": "ipython",
    "version": 3
   },
   "file_extension": ".py",
   "mimetype": "text/x-python",
   "name": "python",
   "nbconvert_exporter": "python",
   "pygments_lexer": "ipython3",
   "version": "3.10.9"
  }
 },
 "nbformat": 4,
 "nbformat_minor": 5
}
