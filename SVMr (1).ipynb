{
  "nbformat": 4,
  "nbformat_minor": 0,
  "metadata": {
    "colab": {
      "provenance": []
    },
    "kernelspec": {
      "name": "python3",
      "display_name": "Python 3"
    },
    "language_info": {
      "name": "python"
    }
  },
  "cells": [
    {
      "cell_type": "markdown",
      "source": [
        "some context\n",
        "\n",
        "In linear regression, the goal is usually to fit a regression line to the data such that the error due to deviation is minimal.\n",
        "\n",
        "the goal for simple linear regression is to minimize the deviation of the data points from the regression line.\n",
        "\n",
        "## suport vector\n",
        "\n",
        "SVR model sets a threshold error allowance ϵ\n",
        " around the regression line such that all the data points within ϵ\n",
        " are not penalized for their error.\n",
        "\n",
        "Therefore, the bound is error insensitive and is called ϵ-insensitive tube or simply ϵ-tube.\n",
        "\n"
      ],
      "metadata": {
        "id": "_pliNKB8b-X0"
      }
    },
    {
      "cell_type": "markdown",
      "source": [
        "Data points that fall outside the ϵ\n",
        "-tube are penalized for their error:\n",
        "\n",
        "The error associated with the data point above ϵ\n",
        "* tube is computed as the verticle distance between the datapoint and ϵ\n",
        "* tube’s margin.\n",
        "If the data is below the tube, an error is the verticle distance between the ϵ\n",
        "* tube’s lower bound and the datapoint.\n",
        "\n",
        "note that the error is taken from the tube’s margin and not the regression line"
      ],
      "metadata": {
        "id": "FCHuu3K1e1vs"
      }
    },
    {
      "cell_type": "markdown",
      "source": [
        "Whenever a data point is above the tube’s margin, the deviation is denoted as ζ\n",
        " and ζ∗\n",
        " when it is below. Both the ζ\n",
        " and ζ∗\n",
        " are called Slack Variables.\n",
        "\n",
        " These points are the ones that dictate how the ϵ\n",
        "-tube is created. They are thus called the Support Vector."
      ],
      "metadata": {
        "id": "tJLU8mKsfJ5F"
      }
    },
    {
      "cell_type": "markdown",
      "source": [
        "# implementation"
      ],
      "metadata": {
        "id": "qe_kd_-ah0Tx"
      }
    },
    {
      "cell_type": "code",
      "source": [
        "import numpy as np\n",
        "import matplotlib.pyplot as plt\n",
        "import pandas as pd"
      ],
      "metadata": {
        "id": "dTJwT9Klhy1V"
      },
      "execution_count": null,
      "outputs": []
    },
    {
      "cell_type": "code",
      "source": [
        "data_set = pd.read_csv('/content/Salary_Data.csv')"
      ],
      "metadata": {
        "id": "NDtKZBDIhz5S"
      },
      "execution_count": null,
      "outputs": []
    },
    {
      "cell_type": "code",
      "execution_count": null,
      "metadata": {
        "colab": {
          "base_uri": "https://localhost:8080/"
        },
        "id": "_LkrSa1zb87a",
        "outputId": "0ab9bc86-c5a3-4a75-e453-fc78048863f0"
      },
      "outputs": [
        {
          "output_type": "execute_result",
          "data": {
            "text/plain": [
              "Index(['YearsExperience', 'Salary'], dtype='object')"
            ]
          },
          "metadata": {},
          "execution_count": 3
        }
      ],
      "source": [
        "data_set.columns"
      ]
    },
    {
      "cell_type": "markdown",
      "source": [
        "separate into features and study variables"
      ],
      "metadata": {
        "id": "wvbfyGNwi28M"
      }
    },
    {
      "cell_type": "code",
      "source": [
        "X_l = data_set.iloc[:, :1].values"
      ],
      "metadata": {
        "id": "DgqdHH8wictN"
      },
      "execution_count": null,
      "outputs": []
    },
    {
      "cell_type": "code",
      "source": [
        "X_l"
      ],
      "metadata": {
        "colab": {
          "base_uri": "https://localhost:8080/"
        },
        "id": "K5uKiD_Aluj2",
        "outputId": "4262a469-da06-4077-df4e-3ff83bfd18c0"
      },
      "execution_count": null,
      "outputs": [
        {
          "output_type": "execute_result",
          "data": {
            "text/plain": [
              "array([[ 1.1],\n",
              "       [ 1.3],\n",
              "       [ 1.5],\n",
              "       [ 2. ],\n",
              "       [ 2.2],\n",
              "       [ 2.9],\n",
              "       [ 3. ],\n",
              "       [ 3.2],\n",
              "       [ 3.2],\n",
              "       [ 3.7],\n",
              "       [ 3.9],\n",
              "       [ 4. ],\n",
              "       [ 4. ],\n",
              "       [ 4.1],\n",
              "       [ 4.5],\n",
              "       [ 4.9],\n",
              "       [ 5.1],\n",
              "       [ 5.3],\n",
              "       [ 5.9],\n",
              "       [ 6. ],\n",
              "       [ 6.8],\n",
              "       [ 7.1],\n",
              "       [ 7.9],\n",
              "       [ 8.2],\n",
              "       [ 8.7],\n",
              "       [ 9. ],\n",
              "       [ 9.5],\n",
              "       [ 9.6],\n",
              "       [10.3],\n",
              "       [10.5]])"
            ]
          },
          "metadata": {},
          "execution_count": 5
        }
      ]
    },
    {
      "cell_type": "code",
      "source": [
        "y_p = data_set.iloc[:, 1].values"
      ],
      "metadata": {
        "id": "8KyO72T7kBPf"
      },
      "execution_count": null,
      "outputs": []
    },
    {
      "cell_type": "code",
      "source": [
        "X_l"
      ],
      "metadata": {
        "colab": {
          "base_uri": "https://localhost:8080/"
        },
        "id": "eRI7Q7sSkH2j",
        "outputId": "1b1024c0-39d4-4e0f-8906-c37741a52086"
      },
      "execution_count": null,
      "outputs": [
        {
          "output_type": "execute_result",
          "data": {
            "text/plain": [
              "array([[ 1.1],\n",
              "       [ 1.3],\n",
              "       [ 1.5],\n",
              "       [ 2. ],\n",
              "       [ 2.2],\n",
              "       [ 2.9],\n",
              "       [ 3. ],\n",
              "       [ 3.2],\n",
              "       [ 3.2],\n",
              "       [ 3.7],\n",
              "       [ 3.9],\n",
              "       [ 4. ],\n",
              "       [ 4. ],\n",
              "       [ 4.1],\n",
              "       [ 4.5],\n",
              "       [ 4.9],\n",
              "       [ 5.1],\n",
              "       [ 5.3],\n",
              "       [ 5.9],\n",
              "       [ 6. ],\n",
              "       [ 6.8],\n",
              "       [ 7.1],\n",
              "       [ 7.9],\n",
              "       [ 8.2],\n",
              "       [ 8.7],\n",
              "       [ 9. ],\n",
              "       [ 9.5],\n",
              "       [ 9.6],\n",
              "       [10.3],\n",
              "       [10.5]])"
            ]
          },
          "metadata": {},
          "execution_count": 7
        }
      ]
    },
    {
      "cell_type": "code",
      "source": [
        "y_p = y_p.reshape(-1,1)\n"
      ],
      "metadata": {
        "id": "kyFo9fKPkep7"
      },
      "execution_count": null,
      "outputs": []
    },
    {
      "cell_type": "code",
      "source": [
        "y_p"
      ],
      "metadata": {
        "colab": {
          "base_uri": "https://localhost:8080/"
        },
        "id": "KzqMpkuGjnhb",
        "outputId": "c9efaf29-9a1a-4372-c650-70be1770a58f"
      },
      "execution_count": null,
      "outputs": [
        {
          "output_type": "execute_result",
          "data": {
            "text/plain": [
              "array([[ 39343.],\n",
              "       [ 46205.],\n",
              "       [ 37731.],\n",
              "       [ 43525.],\n",
              "       [ 39891.],\n",
              "       [ 56642.],\n",
              "       [ 60150.],\n",
              "       [ 54445.],\n",
              "       [ 64445.],\n",
              "       [ 57189.],\n",
              "       [ 63218.],\n",
              "       [ 55794.],\n",
              "       [ 56957.],\n",
              "       [ 57081.],\n",
              "       [ 61111.],\n",
              "       [ 67938.],\n",
              "       [ 66029.],\n",
              "       [ 83088.],\n",
              "       [ 81363.],\n",
              "       [ 93940.],\n",
              "       [ 91738.],\n",
              "       [ 98273.],\n",
              "       [101302.],\n",
              "       [113812.],\n",
              "       [109431.],\n",
              "       [105582.],\n",
              "       [116969.],\n",
              "       [112635.],\n",
              "       [122391.],\n",
              "       [121872.]])"
            ]
          },
          "metadata": {},
          "execution_count": 9
        }
      ]
    },
    {
      "cell_type": "markdown",
      "source": [
        "import the scalar we want and scale labels and features"
      ],
      "metadata": {
        "id": "aHDYC5oUpP_H"
      }
    },
    {
      "cell_type": "code",
      "source": [
        "from sklearn.preprocessing import StandardScaler\n"
      ],
      "metadata": {
        "id": "hwaAJSHcpZFF"
      },
      "execution_count": null,
      "outputs": []
    },
    {
      "cell_type": "code",
      "source": [
        "StdS_X = StandardScaler()\n",
        "StdS_y = StandardScaler()\n",
        "X_l = StdS_X.fit_transform(X_l)\n",
        "y_p = StdS_y.fit_transform(y_p)"
      ],
      "metadata": {
        "id": "ek3j3Tjsob0E"
      },
      "execution_count": null,
      "outputs": []
    },
    {
      "cell_type": "code",
      "source": [
        "X_l # this is the scaled"
      ],
      "metadata": {
        "colab": {
          "base_uri": "https://localhost:8080/"
        },
        "id": "HSPa9olqpb9a",
        "outputId": "2e860e25-a412-49fc-9b6a-ab5f636e39aa"
      },
      "execution_count": null,
      "outputs": [
        {
          "output_type": "execute_result",
          "data": {
            "text/plain": [
              "array([[-1.51005294],\n",
              "       [-1.43837321],\n",
              "       [-1.36669348],\n",
              "       [-1.18749416],\n",
              "       [-1.11581443],\n",
              "       [-0.86493538],\n",
              "       [-0.82909552],\n",
              "       [-0.75741579],\n",
              "       [-0.75741579],\n",
              "       [-0.57821647],\n",
              "       [-0.50653674],\n",
              "       [-0.47069688],\n",
              "       [-0.47069688],\n",
              "       [-0.43485702],\n",
              "       [-0.29149756],\n",
              "       [-0.1481381 ],\n",
              "       [-0.07645838],\n",
              "       [-0.00477865],\n",
              "       [ 0.21026054],\n",
              "       [ 0.2461004 ],\n",
              "       [ 0.53281931],\n",
              "       [ 0.6403389 ],\n",
              "       [ 0.92705781],\n",
              "       [ 1.03457741],\n",
              "       [ 1.21377673],\n",
              "       [ 1.32129632],\n",
              "       [ 1.50049564],\n",
              "       [ 1.5363355 ],\n",
              "       [ 1.78721455],\n",
              "       [ 1.85889428]])"
            ]
          },
          "metadata": {},
          "execution_count": 12
        }
      ]
    },
    {
      "cell_type": "code",
      "source": [
        "y_p # this is the scaled"
      ],
      "metadata": {
        "colab": {
          "base_uri": "https://localhost:8080/"
        },
        "id": "YnvJthD-pioF",
        "outputId": "2ad9bd64-f511-4d35-cfa9-79a0fc0b30e7"
      },
      "execution_count": null,
      "outputs": [
        {
          "output_type": "execute_result",
          "data": {
            "text/plain": [
              "array([[-1.36011263],\n",
              "       [-1.10552744],\n",
              "       [-1.419919  ],\n",
              "       [-1.20495739],\n",
              "       [-1.33978143],\n",
              "       [-0.71830716],\n",
              "       [-0.58815781],\n",
              "       [-0.79981746],\n",
              "       [-0.42881019],\n",
              "       [-0.69801306],\n",
              "       [-0.47433279],\n",
              "       [-0.74976858],\n",
              "       [-0.70662043],\n",
              "       [-0.70201994],\n",
              "       [-0.55250402],\n",
              "       [-0.29921736],\n",
              "       [-0.37004264],\n",
              "       [ 0.26285865],\n",
              "       [ 0.19885989],\n",
              "       [ 0.66547573],\n",
              "       [ 0.58377993],\n",
              "       [ 0.82623317],\n",
              "       [ 0.93861127],\n",
              "       [ 1.40274136],\n",
              "       [ 1.24020308],\n",
              "       [ 1.09740238],\n",
              "       [ 1.51986835],\n",
              "       [ 1.3590738 ],\n",
              "       [ 1.72102849],\n",
              "       [ 1.70177321]])"
            ]
          },
          "metadata": {},
          "execution_count": 13
        }
      ]
    },
    {
      "cell_type": "markdown",
      "source": [
        "we can see both variables were scaled within the range -3 and +3."
      ],
      "metadata": {
        "id": "2xAmQ9u_p3Lh"
      }
    },
    {
      "cell_type": "markdown",
      "source": [
        "visualizatin the data to know what SVR model suits better"
      ],
      "metadata": {
        "id": "p6stUQ3zqBhX"
      }
    },
    {
      "cell_type": "code",
      "source": [
        "plt.scatter(X_l, y_p, color = 'red')\n",
        "plt.title('Scatter Plot')\n",
        "plt.xlabel('Years of experience')\n",
        "plt.ylabel('Salary')\n",
        "plt.show()"
      ],
      "metadata": {
        "colab": {
          "base_uri": "https://localhost:8080/",
          "height": 472
        },
        "id": "oWOgwju1qJwl",
        "outputId": "f0bbb5ba-cfb0-4eb9-af3d-8e7070860864"
      },
      "execution_count": null,
      "outputs": [
        {
          "output_type": "display_data",
          "data": {
            "text/plain": [
              "<Figure size 640x480 with 1 Axes>"
            ],
            "image/png": "[encoded data removed]"
          },
          "metadata": {}
        }
      ]
    },
    {
      "cell_type": "markdown",
      "source": [
        "the data is non linear, we can use RFB kernel. Radial Basis Function"
      ],
      "metadata": {
        "id": "fhLLmbwyrUAD"
      }
    },
    {
      "cell_type": "code",
      "source": [
        "from sklearn.svm import SVR"
      ],
      "metadata": {
        "id": "xBiG-oShraPC"
      },
      "execution_count": null,
      "outputs": []
    },
    {
      "cell_type": "code",
      "source": [
        "# from sklearn.svm import SVR??\n",
        "#here you can see more information"
      ],
      "metadata": {
        "id": "tL3o1HuhrzV7"
      },
      "execution_count": null,
      "outputs": []
    },
    {
      "cell_type": "code",
      "source": [
        "regressor = SVR(kernel = 'rbf') # creation of the model\n"
      ],
      "metadata": {
        "id": "P4GJ6zXYrc1b"
      },
      "execution_count": null,
      "outputs": []
    },
    {
      "cell_type": "code",
      "source": [
        "regressor.fit(X_l, y_p.flatten()) #\n",
        " # moving the data to fit the model"
      ],
      "metadata": {
        "colab": {
          "base_uri": "https://localhost:8080/",
          "height": 74
        },
        "id": "aM7vMoR8sdNM",
        "outputId": "3af930f7-ef94-40b2-e325-dea228ef7776"
      },
      "execution_count": null,
      "outputs": [
        {
          "output_type": "execute_result",
          "data": {
            "text/plain": [
              "SVR()"
            ],
            "text/html": [
              "<style>#sk-container-id-1 {color: black;background-color: white;}#sk-container-id-1 pre{padding: 0;}#sk-container-id-1 div.sk-toggleable {background-color: white;}#sk-container-id-1 label.sk-toggleable__label {cursor: pointer;display: block;width: 100%;margin-bottom: 0;padding: 0.3em;box-sizing: border-box;text-align: center;}#sk-container-id-1 label.sk-toggleable__label-arrow:before {content: \"▸\";float: left;margin-right: 0.25em;color: #696969;}#sk-container-id-1 label.sk-toggleable__label-arrow:hover:before {color: black;}#sk-container-id-1 div.sk-estimator:hover label.sk-toggleable__label-arrow:before {color: black;}#sk-container-id-1 div.sk-toggleable__content {max-height: 0;max-width: 0;overflow: hidden;text-align: left;background-color: #f0f8ff;}#sk-container-id-1 div.sk-toggleable__content pre {margin: 0.2em;color: black;border-radius: 0.25em;background-color: #f0f8ff;}#sk-container-id-1 input.sk-toggleable__control:checked~div.sk-toggleable__content {max-height: 200px;max-width: 100%;overflow: auto;}#sk-container-id-1 input.sk-toggleable__control:checked~label.sk-toggleable__label-arrow:before {content: \"▾\";}#sk-container-id-1 div.sk-estimator input.sk-toggleable__control:checked~label.sk-toggleable__label {background-color: #d4ebff;}#sk-container-id-1 div.sk-label input.sk-toggleable__control:checked~label.sk-toggleable__label {background-color: #d4ebff;}#sk-container-id-1 input.sk-hidden--visually {border: 0;clip: rect(1px 1px 1px 1px);clip: rect(1px, 1px, 1px, 1px);height: 1px;margin: -1px;overflow: hidden;padding: 0;position: absolute;width: 1px;}#sk-container-id-1 div.sk-estimator {font-family: monospace;background-color: #f0f8ff;border: 1px dotted black;border-radius: 0.25em;box-sizing: border-box;margin-bottom: 0.5em;}#sk-container-id-1 div.sk-estimator:hover {background-color: #d4ebff;}#sk-container-id-1 div.sk-parallel-item::after {content: \"\";width: 100%;border-bottom: 1px solid gray;flex-grow: 1;}#sk-container-id-1 div.sk-label:hover label.sk-toggleable__label {background-color: #d4ebff;}#sk-container-id-1 div.sk-serial::before {content: \"\";position: absolute;border-left: 1px solid gray;box-sizing: border-box;top: 0;bottom: 0;left: 50%;z-index: 0;}#sk-container-id-1 div.sk-serial {display: flex;flex-direction: column;align-items: center;background-color: white;padding-right: 0.2em;padding-left: 0.2em;position: relative;}#sk-container-id-1 div.sk-item {position: relative;z-index: 1;}#sk-container-id-1 div.sk-parallel {display: flex;align-items: stretch;justify-content: center;background-color: white;position: relative;}#sk-container-id-1 div.sk-item::before, #sk-container-id-1 div.sk-parallel-item::before {content: \"\";position: absolute;border-left: 1px solid gray;box-sizing: border-box;top: 0;bottom: 0;left: 50%;z-index: -1;}#sk-container-id-1 div.sk-parallel-item {display: flex;flex-direction: column;z-index: 1;position: relative;background-color: white;}#sk-container-id-1 div.sk-parallel-item:first-child::after {align-self: flex-end;width: 50%;}#sk-container-id-1 div.sk-parallel-item:last-child::after {align-self: flex-start;width: 50%;}#sk-container-id-1 div.sk-parallel-item:only-child::after {width: 0;}#sk-container-id-1 div.sk-dashed-wrapped {border: 1px dashed gray;margin: 0 0.4em 0.5em 0.4em;box-sizing: border-box;padding-bottom: 0.4em;background-color: white;}#sk-container-id-1 div.sk-label label {font-family: monospace;font-weight: bold;display: inline-block;line-height: 1.2em;}#sk-container-id-1 div.sk-label-container {text-align: center;}#sk-container-id-1 div.sk-container {/* jupyter's `normalize.less` sets `[hidden] { display: none; }` but bootstrap.min.css set `[hidden] { display: none !important; }` so we also need the `!important` here to be able to override the default hidden behavior on the sphinx rendered scikit-learn.org. See: https://github.com/scikit-learn/scikit-learn/issues/21755 */display: inline-block !important;position: relative;}#sk-container-id-1 div.sk-text-repr-fallback {display: none;}</style><div id=\"sk-container-id-1\" class=\"sk-top-container\"><div class=\"sk-text-repr-fallback\"><pre>SVR()</pre><b>In a Jupyter environment, please rerun this cell to show the HTML representation or trust the notebook. <br />On GitHub, the HTML representation is unable to render, please try loading this page with nbviewer.org.</b></div><div class=\"sk-container\" hidden><div class=\"sk-item\"><div class=\"sk-estimator sk-toggleable\"><input class=\"sk-toggleable__control sk-hidden--visually\" id=\"sk-estimator-id-1\" type=\"checkbox\" checked><label for=\"sk-estimator-id-1\" class=\"sk-toggleable__label sk-toggleable__label-arrow\">SVR</label><div class=\"sk-toggleable__content\"><pre>SVR()</pre></div></div></div></div></div>"
            ]
          },
          "metadata": {},
          "execution_count": 18
        }
      ]
    },
    {
      "cell_type": "code",
      "source": [
        "A=regressor.predict(StdS_X.transform([[4.5]]))\n"
      ],
      "metadata": {
        "id": "AEhCBxozsHWa"
      },
      "execution_count": null,
      "outputs": []
    },
    {
      "cell_type": "code",
      "source": [
        "A"
      ],
      "metadata": {
        "colab": {
          "base_uri": "https://localhost:8080/"
        },
        "id": "e49SUgGltG0P",
        "outputId": "e9cb3572-0945-483e-dfec-b2d74031d74c"
      },
      "execution_count": null,
      "outputs": [
        {
          "output_type": "execute_result",
          "data": {
            "text/plain": [
              "array([-0.44058596])"
            ]
          },
          "metadata": {},
          "execution_count": 28
        }
      ]
    },
    {
      "cell_type": "markdown",
      "source": [
        "There is a problem. Model predict values are for the scaled study variable. But, the required value for the business is the output of the unscaled data.\n",
        "\n",
        "then we must go back to the real study variable, we will write a program whose objective is to take the predicted values on the scaled range and transform them to the actual scale."
      ],
      "metadata": {
        "id": "TMusNx6xu_Ie"
      }
    },
    {
      "cell_type": "markdown",
      "source": [
        "## take an inverse of the transformation on the study variable."
      ],
      "metadata": {
        "id": "Gotctbe9u_NZ"
      }
    },
    {
      "cell_type": "code",
      "source": [
        "# Convert A to 2D\n",
        "A = A.reshape(-1,1)\n",
        "A"
      ],
      "metadata": {
        "colab": {
          "base_uri": "https://localhost:8080/"
        },
        "id": "fAz8SXQgvcu8",
        "outputId": "81a64aa0-5b15-499a-87ef-f8ec14434459"
      },
      "execution_count": null,
      "outputs": [
        {
          "output_type": "execute_result",
          "data": {
            "text/plain": [
              "array([[-0.44058596]])"
            ]
          },
          "metadata": {},
          "execution_count": 29
        }
      ]
    },
    {
      "cell_type": "markdown",
      "source": [
        "We now have to use the inverse transformation to convert it to an unscaled value in the original dataset as shown:\n"
      ],
      "metadata": {
        "id": "m_JlWBLMvn94"
      }
    },
    {
      "cell_type": "code",
      "source": [
        "A_pred = StdS_y.inverse_transform(A)\n",
        "A_pred"
      ],
      "metadata": {
        "colab": {
          "base_uri": "https://localhost:8080/"
        },
        "id": "utxsXwBJvhJ9",
        "outputId": "871ac59d-a7ea-475b-be4f-a35a95faeab6"
      },
      "execution_count": null,
      "outputs": [
        {
          "output_type": "execute_result",
          "data": {
            "text/plain": [
              "array([[64127.60010341]])"
            ]
          },
          "metadata": {},
          "execution_count": 36
        }
      ]
    },
    {
      "cell_type": "markdown",
      "source": [
        "Too many steps but we can make it simpler to run with one cell"
      ],
      "metadata": {
        "id": "4JBoVEoUwBau"
      }
    },
    {
      "cell_type": "code",
      "source": [
        "B_pred = StdS_y.inverse_transform(regressor.predict(StdS_X.transform([[4.5]])).reshape(-1,1))\n",
        "B_pred # you will see that are the same values"
      ],
      "metadata": {
        "colab": {
          "base_uri": "https://localhost:8080/"
        },
        "id": "DJr903wBwBDO",
        "outputId": "7ed97836-29ef-466a-d2fa-65833d3abe1b"
      },
      "execution_count": null,
      "outputs": [
        {
          "output_type": "execute_result",
          "data": {
            "text/plain": [
              "array([[64127.60010341]])"
            ]
          },
          "metadata": {},
          "execution_count": 37
        }
      ]
    },
    {
      "cell_type": "markdown",
      "source": [
        "Now lets visualize the model"
      ],
      "metadata": {
        "id": "i_uiN52MwQA9"
      }
    },
    {
      "cell_type": "code",
      "source": [
        "# inverse the transformation to go back to the initial scale\n",
        "plt.scatter(StdS_X.inverse_transform(X_l), StdS_y.inverse_transform(y_p), color = 'black')\n",
        "plt.plot(StdS_X.inverse_transform(X_l), StdS_y.inverse_transform(regressor.predict(X_l).reshape(-1,1)), color = 'red')\n",
        "plt.title('Support Vector Regression Model')\n",
        "plt.xlabel('Years of experience')\n",
        "plt.ylabel('Salary')\n",
        "plt.show()"
      ],
      "metadata": {
        "colab": {
          "base_uri": "https://localhost:8080/",
          "height": 472
        },
        "id": "Tf082JW8wKHj",
        "outputId": "5a39be14-97f6-4bed-c1ec-d6af5fbdbfe6"
      },
      "execution_count": null,
      "outputs": [
        {
          "output_type": "display_data",
          "data": {
            "text/plain": [
              "<Figure size 640x480 with 1 Axes>"
            ],
            "image/png": "[encoded data removed]"
          },
          "metadata": {}
        }
      ]
    }
  ]
}