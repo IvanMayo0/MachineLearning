{
 "cells": [
  {
   "cell_type": "markdown",
   "id": "1d86b362",
   "metadata": {},
   "source": [
    "Angel Mayo\n",
    "\n",
    "nombre de feature : pobreza\n",
    "\n",
    "feature: cpic_rezedu    Carencias promedio de personas en rezago educativo\n",
    "\n",
    "\t2. tipo de problema: Clasificación\n",
    "    \n",
    "\t3. pregunta: clasifica en las siguientes categorías las carencias de rezago educativo (Severa, Media, Baja)\n",
    "\n"
   ]
  },
  {
   "cell_type": "code",
   "execution_count": 1,
   "id": "f81d04a0",
   "metadata": {},
   "outputs": [],
   "source": [
    "# import pandas as pd\n",
    "# import numpy as np \n",
    "# import matplotlib as plt\n",
    "\n",
    "# dataset = pd.read_csv('Indicadores_municipales_sabana_DA.csv', encoding ='latin_1' )\n",
    "\n",
    "# columns_trash = [:, 3]\n",
    "# dataset = dataset.drop(dataset.columns[columns_trash], axis=1)\n",
    "# dataset.head()\n",
    "\n"
   ]
  },
  {
   "cell_type": "code",
   "execution_count": 2,
   "id": "ba7a3186",
   "metadata": {},
   "outputs": [],
   "source": [
    "import pandas as pd\n",
    "import numpy as np \n",
    "import matplotlib.pyplot as plt"
   ]
  },
  {
   "cell_type": "code",
   "execution_count": 3,
   "id": "2dcbd786",
   "metadata": {},
   "outputs": [
    {
     "data": {
      "text/html": [
       "<div>\n",
       "<style scoped>\n",
       "    .dataframe tbody tr th:only-of-type {\n",
       "        vertical-align: middle;\n",
       "    }\n",
       "\n",
       "    .dataframe tbody tr th {\n",
       "        vertical-align: top;\n",
       "    }\n",
       "\n",
       "    .dataframe thead th {\n",
       "        text-align: right;\n",
       "    }\n",
       "</style>\n",
       "<table border=\"1\" class=\"dataframe\">\n",
       "  <thead>\n",
       "    <tr style=\"text-align: right;\">\n",
       "      <th></th>\n",
       "      <th>ent</th>\n",
       "      <th>nom_ent</th>\n",
       "      <th>mun</th>\n",
       "      <th>clave_mun</th>\n",
       "      <th>nom_mun</th>\n",
       "      <th>pobtot_ajustada</th>\n",
       "      <th>pobreza</th>\n",
       "      <th>pobreza_e</th>\n",
       "      <th>pobreza_m</th>\n",
       "      <th>vul_car</th>\n",
       "      <th>...</th>\n",
       "      <th>pobreza_alim_10</th>\n",
       "      <th>pobreza_cap_90</th>\n",
       "      <th>pobreza_cap_00</th>\n",
       "      <th>pobreza_cap_10</th>\n",
       "      <th>pobreza_patrim_90</th>\n",
       "      <th>pobreza_patrim_00</th>\n",
       "      <th>pobreza_patrim_10</th>\n",
       "      <th>gini_90</th>\n",
       "      <th>gini_00</th>\n",
       "      <th>gini_10</th>\n",
       "    </tr>\n",
       "  </thead>\n",
       "  <tbody>\n",
       "    <tr>\n",
       "      <th>0</th>\n",
       "      <td>1</td>\n",
       "      <td>Aguascalientes</td>\n",
       "      <td>1</td>\n",
       "      <td>1001</td>\n",
       "      <td>Aguascalientes</td>\n",
       "      <td>794304</td>\n",
       "      <td>30.531104</td>\n",
       "      <td>2.264478</td>\n",
       "      <td>28.266627</td>\n",
       "      <td>27.983320</td>\n",
       "      <td>...</td>\n",
       "      <td>11.805700</td>\n",
       "      <td>20.4</td>\n",
       "      <td>12.7</td>\n",
       "      <td>18.474600</td>\n",
       "      <td>43.4</td>\n",
       "      <td>33.7</td>\n",
       "      <td>41.900398</td>\n",
       "      <td>0.473</td>\n",
       "      <td>0.425</td>\n",
       "      <td>0.422628</td>\n",
       "    </tr>\n",
       "    <tr>\n",
       "      <th>1</th>\n",
       "      <td>1</td>\n",
       "      <td>Aguascalientes</td>\n",
       "      <td>2</td>\n",
       "      <td>1002</td>\n",
       "      <td>Asientos</td>\n",
       "      <td>48592</td>\n",
       "      <td>67.111172</td>\n",
       "      <td>8.040704</td>\n",
       "      <td>59.070468</td>\n",
       "      <td>22.439389</td>\n",
       "      <td>...</td>\n",
       "      <td>21.993299</td>\n",
       "      <td>39.9</td>\n",
       "      <td>29.0</td>\n",
       "      <td>30.980801</td>\n",
       "      <td>64.2</td>\n",
       "      <td>48.9</td>\n",
       "      <td>59.175800</td>\n",
       "      <td>0.379</td>\n",
       "      <td>0.533</td>\n",
       "      <td>0.343879</td>\n",
       "    </tr>\n",
       "    <tr>\n",
       "      <th>2</th>\n",
       "      <td>1</td>\n",
       "      <td>Aguascalientes</td>\n",
       "      <td>3</td>\n",
       "      <td>1003</td>\n",
       "      <td>Calvillo</td>\n",
       "      <td>53104</td>\n",
       "      <td>61.360527</td>\n",
       "      <td>7.241238</td>\n",
       "      <td>54.119289</td>\n",
       "      <td>29.428583</td>\n",
       "      <td>...</td>\n",
       "      <td>19.266800</td>\n",
       "      <td>39.5</td>\n",
       "      <td>33.1</td>\n",
       "      <td>28.259199</td>\n",
       "      <td>63.9</td>\n",
       "      <td>57.9</td>\n",
       "      <td>56.504902</td>\n",
       "      <td>0.414</td>\n",
       "      <td>0.465</td>\n",
       "      <td>0.386781</td>\n",
       "    </tr>\n",
       "    <tr>\n",
       "      <th>3</th>\n",
       "      <td>1</td>\n",
       "      <td>Aguascalientes</td>\n",
       "      <td>4</td>\n",
       "      <td>1004</td>\n",
       "      <td>Cosío</td>\n",
       "      <td>14101</td>\n",
       "      <td>52.800458</td>\n",
       "      <td>4.769001</td>\n",
       "      <td>48.031458</td>\n",
       "      <td>27.128568</td>\n",
       "      <td>...</td>\n",
       "      <td>14.303200</td>\n",
       "      <td>35.2</td>\n",
       "      <td>21.0</td>\n",
       "      <td>22.386101</td>\n",
       "      <td>59.7</td>\n",
       "      <td>40.1</td>\n",
       "      <td>51.164501</td>\n",
       "      <td>0.392</td>\n",
       "      <td>0.541</td>\n",
       "      <td>0.344984</td>\n",
       "    </tr>\n",
       "    <tr>\n",
       "      <th>4</th>\n",
       "      <td>1</td>\n",
       "      <td>Aguascalientes</td>\n",
       "      <td>5</td>\n",
       "      <td>1005</td>\n",
       "      <td>Jesús María</td>\n",
       "      <td>101379</td>\n",
       "      <td>45.338512</td>\n",
       "      <td>6.084037</td>\n",
       "      <td>39.254475</td>\n",
       "      <td>26.262912</td>\n",
       "      <td>...</td>\n",
       "      <td>15.085100</td>\n",
       "      <td>36.6</td>\n",
       "      <td>22.6</td>\n",
       "      <td>22.139999</td>\n",
       "      <td>60.6</td>\n",
       "      <td>42.2</td>\n",
       "      <td>45.703899</td>\n",
       "      <td>0.391</td>\n",
       "      <td>0.469</td>\n",
       "      <td>0.458083</td>\n",
       "    </tr>\n",
       "  </tbody>\n",
       "</table>\n",
       "<p>5 rows × 139 columns</p>\n",
       "</div>"
      ],
      "text/plain": [
       "   ent         nom_ent  mun  clave_mun         nom_mun  pobtot_ajustada  \\\n",
       "0    1  Aguascalientes    1       1001  Aguascalientes           794304   \n",
       "1    1  Aguascalientes    2       1002        Asientos            48592   \n",
       "2    1  Aguascalientes    3       1003        Calvillo            53104   \n",
       "3    1  Aguascalientes    4       1004           Cosío            14101   \n",
       "4    1  Aguascalientes    5       1005     Jesús María           101379   \n",
       "\n",
       "     pobreza  pobreza_e  pobreza_m    vul_car  ...  pobreza_alim_10  \\\n",
       "0  30.531104   2.264478  28.266627  27.983320  ...        11.805700   \n",
       "1  67.111172   8.040704  59.070468  22.439389  ...        21.993299   \n",
       "2  61.360527   7.241238  54.119289  29.428583  ...        19.266800   \n",
       "3  52.800458   4.769001  48.031458  27.128568  ...        14.303200   \n",
       "4  45.338512   6.084037  39.254475  26.262912  ...        15.085100   \n",
       "\n",
       "   pobreza_cap_90  pobreza_cap_00  pobreza_cap_10  pobreza_patrim_90  \\\n",
       "0            20.4            12.7       18.474600               43.4   \n",
       "1            39.9            29.0       30.980801               64.2   \n",
       "2            39.5            33.1       28.259199               63.9   \n",
       "3            35.2            21.0       22.386101               59.7   \n",
       "4            36.6            22.6       22.139999               60.6   \n",
       "\n",
       "   pobreza_patrim_00  pobreza_patrim_10  gini_90  gini_00   gini_10  \n",
       "0               33.7          41.900398    0.473    0.425  0.422628  \n",
       "1               48.9          59.175800    0.379    0.533  0.343879  \n",
       "2               57.9          56.504902    0.414    0.465  0.386781  \n",
       "3               40.1          51.164501    0.392    0.541  0.344984  \n",
       "4               42.2          45.703899    0.391    0.469  0.458083  \n",
       "\n",
       "[5 rows x 139 columns]"
      ]
     },
     "execution_count": 3,
     "metadata": {},
     "output_type": "execute_result"
    }
   ],
   "source": [
    " df = pd.read_csv('Indicadores_municipales_sabana_DA.csv', encoding ='latin_1' )\n",
    " df.head()"
   ]
  },
  {
   "cell_type": "code",
   "execution_count": 4,
   "id": "7abd49ec",
   "metadata": {},
   "outputs": [],
   "source": [
    "# df.describe()"
   ]
  },
  {
   "cell_type": "code",
   "execution_count": 5,
   "id": "2bf782c2",
   "metadata": {},
   "outputs": [],
   "source": [
    "# df.info"
   ]
  },
  {
   "cell_type": "code",
   "execution_count": 6,
   "id": "5ae4c29c",
   "metadata": {},
   "outputs": [
    {
     "data": {
      "text/plain": [
       "Index(['ent', 'nom_ent', 'mun', 'clave_mun', 'nom_mun', 'pobtot_ajustada',\n",
       "       'pobreza', 'pobreza_e', 'pobreza_m', 'vul_car',\n",
       "       ...\n",
       "       'pobreza_alim_10', 'pobreza_cap_90', 'pobreza_cap_00', 'pobreza_cap_10',\n",
       "       'pobreza_patrim_90', 'pobreza_patrim_00', 'pobreza_patrim_10',\n",
       "       'gini_90', 'gini_00', 'gini_10'],\n",
       "      dtype='object', length=139)"
      ]
     },
     "execution_count": 6,
     "metadata": {},
     "output_type": "execute_result"
    }
   ],
   "source": [
    "lista_columns = df.columns\n",
    "lista_columns"
   ]
  },
  {
   "cell_type": "code",
   "execution_count": 7,
   "id": "c572d36e",
   "metadata": {
    "scrolled": false
   },
   "outputs": [
    {
     "name": "stdout",
     "output_type": "stream",
     "text": [
      "1.407391906\n",
      "5.243534088\n",
      "3.3005650045\n"
     ]
    }
   ],
   "source": [
    "df2 = df[['nom_mun', 'cpic_rezedu']]\n",
    "#print(df2.isnull().sum())\n",
    "print(df['cpic_rezedu'].min())\n",
    "print(df['cpic_rezedu'].max())\n",
    "print(df['cpic_rezedu'].median())\n",
    "#df2\n",
    "\n",
    "# now we know what values our classes will have\n",
    "# baja {1.39 hasta 2.5}\n",
    "# media {2.51  hasta 3.5}\n",
    "# severa {3.51 hasta 5.3}\n",
    "\n",
    "\n",
    "\n"
   ]
  },
  {
   "cell_type": "code",
   "execution_count": 8,
   "id": "a20bc701",
   "metadata": {
    "scrolled": true
   },
   "outputs": [
    {
     "name": "stdout",
     "output_type": "stream",
     "text": [
      "                    nom_mun  cpic_rezedu  class\n",
      "0            Aguascalientes     2.111344   Baja\n",
      "1                  Asientos     2.504305   Baja\n",
      "2                  Calvillo     2.378428   Baja\n",
      "3                     Cosío     2.118768   Baja\n",
      "4               Jesús María     2.221982   Baja\n",
      "...                     ...          ...    ...\n",
      "2451          Villa Hidalgo     2.655873  Media\n",
      "2452             Villanueva     2.575823  Media\n",
      "2453              Zacatecas     2.161391   Baja\n",
      "2454               Trancoso     2.635323  Media\n",
      "2455  Santa María de la Paz     2.588529  Media\n",
      "\n",
      "[2456 rows x 3 columns]\n"
     ]
    },
    {
     "name": "stderr",
     "output_type": "stream",
     "text": [
      "C:\\Users\\Ivanc\\AppData\\Local\\Temp\\ipykernel_15272\\2676907199.py:5: SettingWithCopyWarning: \n",
      "A value is trying to be set on a copy of a slice from a DataFrame.\n",
      "Try using .loc[row_indexer,col_indexer] = value instead\n",
      "\n",
      "See the caveats in the documentation: https://pandas.pydata.org/pandas-docs/stable/user_guide/indexing.html#returning-a-view-versus-a-copy\n",
      "  df2['class'] = pd.cut(df['cpic_rezedu'], bins=bin_edges, labels=bin_labels)\n"
     ]
    }
   ],
   "source": [
    "# now we prepare the information in categories\n",
    "bin_edges = [0, 2.51, 4.51, float('inf')]\n",
    "bin_labels = ['Baja', 'Media', 'Severa']\n",
    "\n",
    "df2['class'] = pd.cut(df['cpic_rezedu'], bins=bin_edges, labels=bin_labels)\n",
    "print(df2)\n"
   ]
  },
  {
   "cell_type": "code",
   "execution_count": 9,
   "id": "76b8731f",
   "metadata": {},
   "outputs": [
    {
     "data": {
      "text/plain": [
       "'class'"
      ]
     },
     "execution_count": 9,
     "metadata": {},
     "output_type": "execute_result"
    }
   ],
   "source": [
    "df2.columns[2]"
   ]
  },
  {
   "cell_type": "code",
   "execution_count": 10,
   "id": "0bbf23f5",
   "metadata": {},
   "outputs": [],
   "source": [
    "# Split your data into training and testing sets\n",
    "X_train = df.iloc[:1964, 1].values\n",
    "Y_train = df.iloc[:1964, 2].values\n",
    "X_test = df.iloc[1965:, 1].values\n",
    "Y_test = df.iloc[1965:, 2].values\n"
   ]
  },
  {
   "cell_type": "code",
   "execution_count": 11,
   "id": "df33c62a",
   "metadata": {},
   "outputs": [
    {
     "ename": "TypeError",
     "evalue": "unsupported operand type(s) for -: 'str' and 'str'",
     "output_type": "error",
     "traceback": [
      "\u001b[1;31m---------------------------------------------------------------------------\u001b[0m",
      "\u001b[1;31mTypeError\u001b[0m                                 Traceback (most recent call last)",
      "Cell \u001b[1;32mIn[11], line 16\u001b[0m\n\u001b[0;32m     12\u001b[0m         predictions\u001b[38;5;241m.\u001b[39mappend(prediction)\n\u001b[0;32m     13\u001b[0m     \u001b[38;5;28;01mreturn\u001b[39;00m np\u001b[38;5;241m.\u001b[39marray(predictions)\n\u001b[1;32m---> 16\u001b[0m predicted_labels \u001b[38;5;241m=\u001b[39m \u001b[43mknn_classifier\u001b[49m\u001b[43m(\u001b[49m\u001b[43mX_train\u001b[49m\u001b[43m,\u001b[49m\u001b[43m \u001b[49m\u001b[43mY_train\u001b[49m\u001b[43m,\u001b[49m\u001b[43m \u001b[49m\u001b[43mX_test\u001b[49m\u001b[43m,\u001b[49m\u001b[43m \u001b[49m\u001b[43mk\u001b[49m\u001b[38;5;241;43m=\u001b[39;49m\u001b[38;5;241;43m15\u001b[39;49m\u001b[43m)\u001b[49m\n",
      "Cell \u001b[1;32mIn[11], line 5\u001b[0m, in \u001b[0;36mknn_classifier\u001b[1;34m(X_train, Y_train, X_test, k)\u001b[0m\n\u001b[0;32m      2\u001b[0m predictions \u001b[38;5;241m=\u001b[39m []\n\u001b[0;32m      3\u001b[0m \u001b[38;5;28;01mfor\u001b[39;00m test_point \u001b[38;5;129;01min\u001b[39;00m X_test:\n\u001b[0;32m      4\u001b[0m     \u001b[38;5;66;03m# Calculate distances to all training points\u001b[39;00m\n\u001b[1;32m----> 5\u001b[0m     distances \u001b[38;5;241m=\u001b[39m np\u001b[38;5;241m.\u001b[39msqrt(np\u001b[38;5;241m.\u001b[39msum((\u001b[43mX_train\u001b[49m\u001b[43m \u001b[49m\u001b[38;5;241;43m-\u001b[39;49m\u001b[43m \u001b[49m\u001b[43mtest_point\u001b[49m)\u001b[38;5;241m*\u001b[39m\u001b[38;5;241m*\u001b[39m\u001b[38;5;241m2\u001b[39m, axis\u001b[38;5;241m=\u001b[39m\u001b[38;5;241m1\u001b[39m))\n\u001b[0;32m      6\u001b[0m     \u001b[38;5;66;03m# Get indices of k-nearest neighbors\u001b[39;00m\n\u001b[0;32m      7\u001b[0m     nearest_indices \u001b[38;5;241m=\u001b[39m np\u001b[38;5;241m.\u001b[39margsort(distances)[:k]\n",
      "\u001b[1;31mTypeError\u001b[0m: unsupported operand type(s) for -: 'str' and 'str'"
     ]
    }
   ],
   "source": [
    "def knn_classifier(X_train, Y_train, X_test, k=15):\n",
    "    predictions = []\n",
    "    for test_point in X_test:\n",
    "        # Calculate distances to all training points\n",
    "        distances = np.sqrt(np.sum((X_train - test_point)**2, axis=1))\n",
    "        # Get indices of k-nearest neighbors\n",
    "        nearest_indices = np.argsort(distances)[:k]\n",
    "        # Get labels of k-nearest neighbors\n",
    "        nearest_labels = y_train[nearest_indices]\n",
    "        # Predict the class label as the majority class among neighbors\n",
    "        prediction = np.bincount(nearest_labels).argmax()\n",
    "        predictions.append(prediction)\n",
    "    return np.array(predictions)\n",
    "\n",
    "\n",
    "predicted_labels = knn_classifier(X_train, Y_train, X_test, k=15)\n"
   ]
  },
  {
   "cell_type": "code",
   "execution_count": null,
   "id": "5f162300",
   "metadata": {},
   "outputs": [],
   "source": [
    "plt.scatter(Y_test, predicted_labels, alpha=0.5)\n",
    "plt.xlabel('Actual Labels')\n",
    "plt.ylabel(f'Predicted Labels (k={k_value})')\n",
    "plt.title(f'Actual vs. Predicted Labels (k={k_value})')\n",
    "plt.show()"
   ]
  },
  {
   "cell_type": "code",
   "execution_count": null,
   "id": "fdfa8166",
   "metadata": {},
   "outputs": [],
   "source": []
  }
 ],
 "metadata": {
  "kernelspec": {
   "display_name": "Python 3 (ipykernel)",
   "language": "python",
   "name": "python3"
  },
  "language_info": {
   "codemirror_mode": {
    "name": "ipython",
    "version": 3
   },
   "file_extension": ".py",
   "mimetype": "text/x-python",
   "name": "python",
   "nbconvert_exporter": "python",
   "pygments_lexer": "ipython3",
   "version": "3.10.9"
  }
 },
 "nbformat": 4,
 "nbformat_minor": 5
}
