{
 "cells": [
  {
   "cell_type": "markdown",
   "id": "29ac700c",
   "metadata": {},
   "source": [
    "# Perceptron\n",
    "is an algorithm that determines yes or no, 1 or 0. Determines if something is true of false\n",
    "Basic unit consisting of one node\n",
    "\n",
    "## components\n",
    "inputs\n",
    "    values\n",
    "weights\n",
    "    is the impact of each value\n",
    "    \n",
    "    \n",
    "To reach logical conclusion we need to apply weight on the input. \n",
    "Multiply the input by its corresponding weights\n",
    "Sum all of them \n",
    "\n",
    "evaluate if the sum reaches the threshold or bias\n",
    "\n",
    "to evaluate we use an activation function\n",
    "if the weighted sum is bigger than the step funtion value, is 1\n",
    "if the weighted sum is lower or equal than the step funtion value, is 0 \n",
    "\n",
    "we can choose the thresholds/bias values\n",
    "we can choose the initial weights values\n",
    "\n",
    "<img src=\"perceptronI.png\" alt=\"Alternative text\" />\n"
   ]
  },
  {
   "cell_type": "markdown",
   "id": "8fdd8b86",
   "metadata": {},
   "source": [
    "### First define the inputs, weights and the threshold"
   ]
  },
  {
   "cell_type": "code",
   "execution_count": 1,
   "id": "cbc70fc9",
   "metadata": {},
   "outputs": [],
   "source": [
    "x_input = [0.1, 0.5, 0.2]\n",
    "w_weight = [0.4, 0.3, 0.6]\n",
    "threshold = 0.5\n"
   ]
  },
  {
   "cell_type": "markdown",
   "id": "d4d2405a",
   "metadata": {},
   "source": [
    "### Then we define the step function that will compare the sum weights"
   ]
  },
  {
   "cell_type": "code",
   "execution_count": 2,
   "id": "54012218",
   "metadata": {},
   "outputs": [],
   "source": [
    "def step(weighted_sum):\n",
    "    if weighted_sum > threshold:\n",
    "        return 1\n",
    "    else:\n",
    "        return 0 "
   ]
  },
  {
   "cell_type": "markdown",
   "id": "5f294136",
   "metadata": {},
   "source": [
    "### Then we define the perceptron"
   ]
  },
  {
   "cell_type": "code",
   "execution_count": 3,
   "id": "96c1a760",
   "metadata": {},
   "outputs": [],
   "source": [
    "\n",
    "def perceptron():\n",
    "    weighted_sum = 0\n",
    "    for x,w in zip(x_input, w_weight):\n",
    "        weighted_sum += x*w\n",
    "        print(weighted_sum)\n",
    "    return step(weighted_sum)\n"
   ]
  },
  {
   "cell_type": "markdown",
   "id": "60ac122c",
   "metadata": {},
   "source": [
    "### print the results"
   ]
  },
  {
   "cell_type": "code",
   "execution_count": 4,
   "id": "e58b4fd8",
   "metadata": {},
   "outputs": [
    {
     "name": "stdout",
     "output_type": "stream",
     "text": [
      "0.04000000000000001\n",
      "0.19\n",
      "0.31\n",
      "output: 0\n"
     ]
    }
   ],
   "source": [
    "output = perceptron()\n",
    "print(\"output: \" + str(output))"
   ]
  },
  {
   "cell_type": "code",
   "execution_count": null,
   "id": "d44b7803",
   "metadata": {},
   "outputs": [],
   "source": []
  }
 ],
 "metadata": {
  "kernelspec": {
   "display_name": "Python 3 (ipykernel)",
   "language": "python",
   "name": "python3"
  },
  "language_info": {
   "codemirror_mode": {
    "name": "ipython",
    "version": 3
   },
   "file_extension": ".py",
   "mimetype": "text/x-python",
   "name": "python",
   "nbconvert_exporter": "python",
   "pygments_lexer": "ipython3",
   "version": "3.10.9"
  }
 },
 "nbformat": 4,
 "nbformat_minor": 5
}
