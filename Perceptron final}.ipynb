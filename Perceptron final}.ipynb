{
 "cells": [
  {
   "cell_type": "code",
   "execution_count": 2,
   "id": "d9671a37",
   "metadata": {},
   "outputs": [
    {
     "name": "stdout",
     "output_type": "stream",
     "text": [
      "Predictions: [0, 0, 0, 1]\n",
      "Mean Squared Error: 0.0\n"
     ]
    }
   ],
   "source": [
    "import numpy as np\n",
    "\n",
    "class Perceptron:\n",
    "    def __init__(self, input_size):\n",
    "        self.weights = np.zeros(input_size)\n",
    "        self.bias = 0\n",
    "\n",
    "    def predict(self, inputs):\n",
    "        # Sum of weighted inputs plus bias\n",
    "        z = np.dot(self.weights, inputs) + self.bias\n",
    "        # Activation function (Heaviside step function)\n",
    "        return 1 if z > 0 else 0\n",
    "\n",
    "    def train(self, inputs, target, learning_rate=0.1):\n",
    "        # Make a prediction\n",
    "        prediction = self.predict(inputs)\n",
    "        # Calculate the error\n",
    "        error = target - prediction\n",
    "        # Update weights and bias using the gradient descent algorithm\n",
    "        self.weights += learning_rate * error * inputs\n",
    "        self.bias += learning_rate * error\n",
    "\n",
    "def mean_squared_error(targets, predictions):#LOSS FUNCTION\n",
    "    return np.mean((targets - predictions) ** 2)\n",
    "\n",
    "def gradient_descent(perceptron, inputs, targets, learning_rate=0.1, epochs=100):\n",
    "    for _ in range(epochs):\n",
    "        for i in range(len(inputs)):\n",
    "            perceptron.train(inputs[i], targets[i], learning_rate)\n",
    "\n",
    "# Example usage\n",
    "if __name__ == \"__main__\":\n",
    "    # Define some training data\n",
    "    inputs = np.array([[0, 0], [0, 1], [1, 0], [1, 1]])\n",
    "    targets = np.array([0, 0, 0, 1])\n",
    "\n",
    "    # Create a Perceptron model with 2 input neurons\n",
    "    model = Perceptron(input_size=2)\n",
    "\n",
    "    # Train the model using gradient descent\n",
    "    gradient_descent(model, inputs, targets)\n",
    "\n",
    "    # Test the trained model\n",
    "    test_inputs = np.array([[0, 0], [0, 1], [1, 0], [1, 1]])\n",
    "    predictions = [model.predict(input) for input in test_inputs]\n",
    "\n",
    "    # Calculate the mean squared error\n",
    "    mse = mean_squared_error(targets, predictions)\n",
    "    print(\"Predictions:\", predictions)\n",
    "    print(\"Mean Squared Error:\", mse)\n"
   ]
  },
  {
   "cell_type": "code",
   "execution_count": 3,
   "id": "07f61ca7",
   "metadata": {
    "collapsed": true
   },
   "outputs": [
    {
     "name": "stdout",
     "output_type": "stream",
     "text": [
      "Expanded Inputs:\n",
      "[[0.85813265 0.48638579]\n",
      " [0.0416938  0.17709603]\n",
      " [0.38851898 0.53766028]\n",
      " [0.96554033 0.37089998]\n",
      " [0.03564381 0.90396423]\n",
      " [0.81326265 0.13698668]\n",
      " [0.05688651 0.79897562]\n",
      " [0.39255912 0.20086149]\n",
      " [0.24405982 0.26041998]\n",
      " [0.80811473 0.271475  ]\n",
      " [0.66241297 0.40163564]\n",
      " [0.52109283 0.09800084]\n",
      " [0.30092024 0.71453603]\n",
      " [0.80369579 0.15642353]\n",
      " [0.98573991 0.42291494]\n",
      " [0.52256964 0.58389833]\n",
      " [0.4638412  0.19270588]\n",
      " [0.45295673 0.83943744]\n",
      " [0.39005642 0.08434118]\n",
      " [0.66665539 0.1820548 ]]\n",
      "Expanded Targets:\n",
      "[0 0 0 0 1 0 1 0 1 1 1 0 0 0 0 0 1 1 1 1]\n"
     ]
    }
   ],
   "source": []
  },
  {
   "cell_type": "code",
   "execution_count": null,
   "id": "01273bc4",
   "metadata": {},
   "outputs": [],
   "source": []
  }
 ],
 "metadata": {
  "kernelspec": {
   "display_name": "Python 3 (ipykernel)",
   "language": "python",
   "name": "python3"
  },
  "language_info": {
   "codemirror_mode": {
    "name": "ipython",
    "version": 3
   },
   "file_extension": ".py",
   "mimetype": "text/x-python",
   "name": "python",
   "nbconvert_exporter": "python",
   "pygments_lexer": "ipython3",
   "version": "3.10.9"
  }
 },
 "nbformat": 4,
 "nbformat_minor": 5
}
